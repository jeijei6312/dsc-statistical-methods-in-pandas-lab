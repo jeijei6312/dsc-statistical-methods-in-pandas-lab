{
 "cells": [
  {
   "cell_type": "markdown",
   "metadata": {},
   "source": [
    "# Statistical Methods in Pandas - Lab"
   ]
  },
  {
   "cell_type": "markdown",
   "metadata": {},
   "source": [
    "## Introduction\n",
    "\n",
    "In this lab you'll get some hands-on experience using some of the key summary statistics methods in Pandas."
   ]
  },
  {
   "cell_type": "markdown",
   "metadata": {},
   "source": [
    "## Objectives\n",
    "You will be able to:\n",
    "\n",
    "- Calculate summary statistics for a series and DataFrame \n",
    "- Use the `.apply()` or `.applymap()` methods to apply a function to a pandas series or DataFrame  \n",
    "\n",
    "\n",
    "## Getting Started\n",
    "\n",
    "For this lab, we'll be working with a dataset containing information on various lego datasets. You will find this dataset in the file `'lego_sets.csv'`.   \n",
    "\n",
    "In the cell below:\n",
    "\n",
    "- Import Pandas and set the standard alias of `pd`\n",
    "- Import the `'lego_sets.csv'` dataset \n",
    "- Display the first five rows of the DataFrame to get a feel for what we'll be working with"
   ]
  },
  {
   "cell_type": "code",
   "execution_count": 1,
   "metadata": {},
   "outputs": [
    {
     "name": "stdout",
     "output_type": "stream",
     "text": [
      "   ages  list_price  num_reviews  piece_count  play_star_rating  \\\n",
      "0  6-12       29.99          2.0        277.0               4.0   \n",
      "1  6-12       19.99          2.0        168.0               4.0   \n",
      "2  6-12       12.99         11.0         74.0               4.3   \n",
      "3   12+       99.99         23.0       1032.0               3.6   \n",
      "4   12+       79.99         14.0        744.0               3.2   \n",
      "\n",
      "                                           prod_desc  prod_id  \\\n",
      "0  Catapult into action and take back the eggs fr...  75823.0   \n",
      "1  Launch a flying attack and rescue the eggs fro...  75822.0   \n",
      "2  Chase the piggy with lightning-fast Chuck and ...  75821.0   \n",
      "3  Explore the architecture of the United States ...  21030.0   \n",
      "4  Recreate the Solomon R. Guggenheim Museum® wit...  21035.0   \n",
      "\n",
      "                                      prod_long_desc review_difficulty  \\\n",
      "0  Use the staircase catapult to launch Red into ...           Average   \n",
      "1  Pilot Pig has taken off from Bird Island with ...              Easy   \n",
      "2  Pitch speedy bird Chuck against the Piggy Car....              Easy   \n",
      "3  Discover the architectural secrets of the icon...           Average   \n",
      "4  Discover the architectural secrets of Frank Ll...       Challenging   \n",
      "\n",
      "                         set_name  star_rating    theme_name  val_star_rating  \\\n",
      "0           Bird Island Egg Heist          4.5  Angry Birds™              4.0   \n",
      "1              Piggy Plane Attack          5.0  Angry Birds™              4.0   \n",
      "2                Piggy Car Escape          4.3  Angry Birds™              4.1   \n",
      "3  United States Capitol Building          4.6  Architecture              4.3   \n",
      "4   Solomon R. Guggenheim Museum®          4.6  Architecture              4.1   \n",
      "\n",
      "  country  \n",
      "0      US  \n",
      "1      US  \n",
      "2      US  \n",
      "3      US  \n",
      "4      US  \n"
     ]
    }
   ],
   "source": [
    "# Import pandas\n",
    "import pandas as pd\n",
    "\n",
    "# Import the 'lego_sets.csv' dataset\n",
    "df = pd.read_csv('lego_sets.csv')\n",
    "\n",
    "# Print the first five rows of DataFrame\n",
    "print(df.head())"
   ]
  },
  {
   "cell_type": "markdown",
   "metadata": {},
   "source": [
    "## Getting DataFrame-Level Statistics\n",
    "\n",
    "We'll begin by getting some overall summary statistics on the dataset. There are two ways we'll get this information -- `.info()` and `.describe()`.\n",
    "\n",
    "The `.info()` method provides us metadata on the DataFrame itself. This allows us to answer questions such as:\n",
    "\n",
    "* What data type does each column contain?\n",
    "* How many rows are in my dataset? \n",
    "* How many total non-missing values does each column contain?\n",
    "* How much memory does the DataFrame take up?\n",
    "\n",
    "In the cell below, call our DataFrame's `.info()` method. "
   ]
  },
  {
   "cell_type": "code",
   "execution_count": 2,
   "metadata": {},
   "outputs": [
    {
     "name": "stdout",
     "output_type": "stream",
     "text": [
      "<class 'pandas.core.frame.DataFrame'>\n",
      "RangeIndex: 12261 entries, 0 to 12260\n",
      "Data columns (total 14 columns):\n",
      " #   Column             Non-Null Count  Dtype  \n",
      "---  ------             --------------  -----  \n",
      " 0   ages               12261 non-null  object \n",
      " 1   list_price         12261 non-null  float64\n",
      " 2   num_reviews        10641 non-null  float64\n",
      " 3   piece_count        12261 non-null  float64\n",
      " 4   play_star_rating   10486 non-null  float64\n",
      " 5   prod_desc          11884 non-null  object \n",
      " 6   prod_id            12261 non-null  float64\n",
      " 7   prod_long_desc     12261 non-null  object \n",
      " 8   review_difficulty  10206 non-null  object \n",
      " 9   set_name           12261 non-null  object \n",
      " 10  star_rating        10641 non-null  float64\n",
      " 11  theme_name         12258 non-null  object \n",
      " 12  val_star_rating    10466 non-null  float64\n",
      " 13  country            12261 non-null  object \n",
      "dtypes: float64(7), object(7)\n",
      "memory usage: 1.3+ MB\n"
     ]
    }
   ],
   "source": [
    "# Call the .info() method\n",
    "df.info()"
   ]
  },
  {
   "cell_type": "markdown",
   "metadata": {},
   "source": [
    "#### Interpreting the Results\n",
    "\n",
    "Read the output above, and then answer the following questions:\n",
    "\n",
    "- How many total rows are in this DataFrame?  \n",
    "- How many columns contain numeric data? \n",
    "- How many contain categorical data? \n",
    "- Identify at least 3 columns that contain missing values. \n",
    "\n",
    "Write your answer below this line:\n",
    "________________________________________________________________________________________________________________________________"
   ]
  },
  {
   "cell_type": "markdown",
   "metadata": {},
   "source": [
    "Whereas `.info()` provides statistics about the DataFrame itself, `.describe()` returns output containing basic summary statistics about the data contained with the DataFrame.  \n",
    "\n",
    "In the cell below, call the DataFrame's `.describe()` method. "
   ]
  },
  {
   "cell_type": "code",
   "execution_count": 3,
   "metadata": {},
   "outputs": [
    {
     "data": {
      "text/html": [
       "<div>\n",
       "<style scoped>\n",
       "    .dataframe tbody tr th:only-of-type {\n",
       "        vertical-align: middle;\n",
       "    }\n",
       "\n",
       "    .dataframe tbody tr th {\n",
       "        vertical-align: top;\n",
       "    }\n",
       "\n",
       "    .dataframe thead th {\n",
       "        text-align: right;\n",
       "    }\n",
       "</style>\n",
       "<table border=\"1\" class=\"dataframe\">\n",
       "  <thead>\n",
       "    <tr style=\"text-align: right;\">\n",
       "      <th></th>\n",
       "      <th>list_price</th>\n",
       "      <th>num_reviews</th>\n",
       "      <th>piece_count</th>\n",
       "      <th>play_star_rating</th>\n",
       "      <th>prod_id</th>\n",
       "      <th>star_rating</th>\n",
       "      <th>val_star_rating</th>\n",
       "    </tr>\n",
       "  </thead>\n",
       "  <tbody>\n",
       "    <tr>\n",
       "      <th>count</th>\n",
       "      <td>12261.000000</td>\n",
       "      <td>10641.000000</td>\n",
       "      <td>12261.000000</td>\n",
       "      <td>10486.000000</td>\n",
       "      <td>1.226100e+04</td>\n",
       "      <td>10641.000000</td>\n",
       "      <td>10466.000000</td>\n",
       "    </tr>\n",
       "    <tr>\n",
       "      <th>mean</th>\n",
       "      <td>65.141998</td>\n",
       "      <td>16.826238</td>\n",
       "      <td>493.405921</td>\n",
       "      <td>4.337641</td>\n",
       "      <td>5.983675e+04</td>\n",
       "      <td>4.514134</td>\n",
       "      <td>4.228960</td>\n",
       "    </tr>\n",
       "    <tr>\n",
       "      <th>std</th>\n",
       "      <td>91.980429</td>\n",
       "      <td>36.368984</td>\n",
       "      <td>825.364580</td>\n",
       "      <td>0.652051</td>\n",
       "      <td>1.638115e+05</td>\n",
       "      <td>0.518865</td>\n",
       "      <td>0.660282</td>\n",
       "    </tr>\n",
       "    <tr>\n",
       "      <th>min</th>\n",
       "      <td>2.272400</td>\n",
       "      <td>1.000000</td>\n",
       "      <td>1.000000</td>\n",
       "      <td>1.000000</td>\n",
       "      <td>6.300000e+02</td>\n",
       "      <td>1.800000</td>\n",
       "      <td>1.000000</td>\n",
       "    </tr>\n",
       "    <tr>\n",
       "      <th>25%</th>\n",
       "      <td>19.990000</td>\n",
       "      <td>2.000000</td>\n",
       "      <td>97.000000</td>\n",
       "      <td>4.000000</td>\n",
       "      <td>2.103400e+04</td>\n",
       "      <td>4.300000</td>\n",
       "      <td>4.000000</td>\n",
       "    </tr>\n",
       "    <tr>\n",
       "      <th>50%</th>\n",
       "      <td>36.587800</td>\n",
       "      <td>6.000000</td>\n",
       "      <td>216.000000</td>\n",
       "      <td>4.500000</td>\n",
       "      <td>4.206900e+04</td>\n",
       "      <td>4.700000</td>\n",
       "      <td>4.300000</td>\n",
       "    </tr>\n",
       "    <tr>\n",
       "      <th>75%</th>\n",
       "      <td>70.192200</td>\n",
       "      <td>13.000000</td>\n",
       "      <td>544.000000</td>\n",
       "      <td>4.800000</td>\n",
       "      <td>7.092200e+04</td>\n",
       "      <td>5.000000</td>\n",
       "      <td>4.700000</td>\n",
       "    </tr>\n",
       "    <tr>\n",
       "      <th>max</th>\n",
       "      <td>1104.870000</td>\n",
       "      <td>367.000000</td>\n",
       "      <td>7541.000000</td>\n",
       "      <td>5.000000</td>\n",
       "      <td>2.000431e+06</td>\n",
       "      <td>5.000000</td>\n",
       "      <td>5.000000</td>\n",
       "    </tr>\n",
       "  </tbody>\n",
       "</table>\n",
       "</div>"
      ],
      "text/plain": [
       "         list_price   num_reviews   piece_count  play_star_rating  \\\n",
       "count  12261.000000  10641.000000  12261.000000      10486.000000   \n",
       "mean      65.141998     16.826238    493.405921          4.337641   \n",
       "std       91.980429     36.368984    825.364580          0.652051   \n",
       "min        2.272400      1.000000      1.000000          1.000000   \n",
       "25%       19.990000      2.000000     97.000000          4.000000   \n",
       "50%       36.587800      6.000000    216.000000          4.500000   \n",
       "75%       70.192200     13.000000    544.000000          4.800000   \n",
       "max     1104.870000    367.000000   7541.000000          5.000000   \n",
       "\n",
       "            prod_id   star_rating  val_star_rating  \n",
       "count  1.226100e+04  10641.000000     10466.000000  \n",
       "mean   5.983675e+04      4.514134         4.228960  \n",
       "std    1.638115e+05      0.518865         0.660282  \n",
       "min    6.300000e+02      1.800000         1.000000  \n",
       "25%    2.103400e+04      4.300000         4.000000  \n",
       "50%    4.206900e+04      4.700000         4.300000  \n",
       "75%    7.092200e+04      5.000000         4.700000  \n",
       "max    2.000431e+06      5.000000         5.000000  "
      ]
     },
     "execution_count": 3,
     "metadata": {},
     "output_type": "execute_result"
    }
   ],
   "source": [
    "# Call the .describe() method\n",
    "df.describe()"
   ]
  },
  {
   "cell_type": "markdown",
   "metadata": {},
   "source": [
    "#### Interpreting the Results\n",
    "\n",
    "The output contains descriptive statistics corresponding to the columns. Use these to answer the following questions:\n",
    "\n",
    "- How much is the standard deviation for `piece count`? \n",
    "- How many pieces are in the largest lego set?\n",
    "- How many in the smallest lego set? What is the median `val_star_rating`?\n",
    "\n",
    "________________________________________________________________________________________________________________________________"
   ]
  },
  {
   "cell_type": "markdown",
   "metadata": {},
   "source": [
    "## Getting Summary Statistics\n",
    "\n",
    "Pandas also allows us to easily compute individual summary statistics using built-in methods.  Next, we'll get some practice using these methods. \n",
    "\n",
    "In the cell below, compute the median value of the `star_rating` column."
   ]
  },
  {
   "cell_type": "code",
   "execution_count": 4,
   "metadata": {},
   "outputs": [
    {
     "name": "stdout",
     "output_type": "stream",
     "text": [
      "4.7\n"
     ]
    }
   ],
   "source": [
    "# Calculate the median of the star_rating column\n",
    "median_star_rating = df['star_rating'].median()\n",
    "\n",
    "print(median_star_rating)"
   ]
  },
  {
   "cell_type": "markdown",
   "metadata": {},
   "source": [
    "Next, get a count of the total number of unique values in `play_star_rating`."
   ]
  },
  {
   "cell_type": "code",
   "execution_count": 5,
   "metadata": {},
   "outputs": [
    {
     "name": "stdout",
     "output_type": "stream",
     "text": [
      "30\n"
     ]
    }
   ],
   "source": [
    "# Print the number of unique values in play_star_rating\n",
    "unique_play_star_ratings = df['play_star_rating'].nunique()\n",
    "\n",
    "print(unique_play_star_ratings)"
   ]
  },
  {
   "cell_type": "markdown",
   "metadata": {},
   "source": [
    "Now, compute the standard deviation of the `list_price` column."
   ]
  },
  {
   "cell_type": "code",
   "execution_count": 6,
   "metadata": {},
   "outputs": [
    {
     "name": "stdout",
     "output_type": "stream",
     "text": [
      "91.9804293059252\n"
     ]
    }
   ],
   "source": [
    "# Calculate the standard deviation of the list_price column\n",
    "std_list_price = df['list_price'].std()\n",
    "print(std_list_price)"
   ]
  },
  {
   "cell_type": "markdown",
   "metadata": {},
   "source": [
    "If we bought every single lego set in this dataset, how many pieces would we have?  \n",
    "\n",
    "> **Note**: If you truly want to answer this accurately, and are up for the challenge, remove duplicate lego-set entries before summing the pieces. That is, many of the lego sets are listed multiple times in the dataset above, depending on the country where it is being sold and other unique parameters. If you're stuck, just practice calculating the total number of pieces in the dataset for now."
   ]
  },
  {
   "cell_type": "code",
   "execution_count": 8,
   "metadata": {},
   "outputs": [
    {
     "ename": "KeyError",
     "evalue": "Index(['set_id'], dtype='object')",
     "output_type": "error",
     "traceback": [
      "\u001b[1;31m---------------------------------------------------------------------------\u001b[0m",
      "\u001b[1;31mKeyError\u001b[0m                                  Traceback (most recent call last)",
      "\u001b[1;32m~\\AppData\\Local\\Temp\\ipykernel_10948\\639601499.py\u001b[0m in \u001b[0;36m?\u001b[1;34m()\u001b[0m\n\u001b[0;32m      1\u001b[0m \u001b[1;31m# Total number of pieces across all unique Lego sets\u001b[0m\u001b[1;33m\u001b[0m\u001b[1;33m\u001b[0m\u001b[0m\n\u001b[1;32m----> 2\u001b[1;33m \u001b[0munique_lego_sets\u001b[0m \u001b[1;33m=\u001b[0m \u001b[0mdf\u001b[0m\u001b[1;33m.\u001b[0m\u001b[0mdrop_duplicates\u001b[0m\u001b[1;33m(\u001b[0m\u001b[0msubset\u001b[0m\u001b[1;33m=\u001b[0m\u001b[1;34m'set_id'\u001b[0m\u001b[1;33m)\u001b[0m\u001b[1;33m\u001b[0m\u001b[1;33m\u001b[0m\u001b[0m\n\u001b[0m\u001b[0;32m      3\u001b[0m \u001b[1;33m\u001b[0m\u001b[0m\n\u001b[0;32m      4\u001b[0m \u001b[0mtotal_pieces\u001b[0m \u001b[1;33m=\u001b[0m \u001b[0munique_lego_sets\u001b[0m\u001b[1;33m[\u001b[0m\u001b[1;34m'num_parts'\u001b[0m\u001b[1;33m]\u001b[0m\u001b[1;33m.\u001b[0m\u001b[0msum\u001b[0m\u001b[1;33m(\u001b[0m\u001b[1;33m)\u001b[0m\u001b[1;33m\u001b[0m\u001b[1;33m\u001b[0m\u001b[0m\n\u001b[0;32m      5\u001b[0m \u001b[1;33m\u001b[0m\u001b[0m\n",
      "\u001b[1;32mC:\\ProgramData\\anaconda3\\Lib\\site-packages\\pandas\\core\\frame.py\u001b[0m in \u001b[0;36m?\u001b[1;34m(self, subset, keep, inplace, ignore_index)\u001b[0m\n\u001b[0;32m   6814\u001b[0m \u001b[1;33m\u001b[0m\u001b[0m\n\u001b[0;32m   6815\u001b[0m         \u001b[0minplace\u001b[0m \u001b[1;33m=\u001b[0m \u001b[0mvalidate_bool_kwarg\u001b[0m\u001b[1;33m(\u001b[0m\u001b[0minplace\u001b[0m\u001b[1;33m,\u001b[0m \u001b[1;34m\"inplace\"\u001b[0m\u001b[1;33m)\u001b[0m\u001b[1;33m\u001b[0m\u001b[1;33m\u001b[0m\u001b[0m\n\u001b[0;32m   6816\u001b[0m         \u001b[0mignore_index\u001b[0m \u001b[1;33m=\u001b[0m \u001b[0mvalidate_bool_kwarg\u001b[0m\u001b[1;33m(\u001b[0m\u001b[0mignore_index\u001b[0m\u001b[1;33m,\u001b[0m \u001b[1;34m\"ignore_index\"\u001b[0m\u001b[1;33m)\u001b[0m\u001b[1;33m\u001b[0m\u001b[1;33m\u001b[0m\u001b[0m\n\u001b[0;32m   6817\u001b[0m \u001b[1;33m\u001b[0m\u001b[0m\n\u001b[1;32m-> 6818\u001b[1;33m         \u001b[0mresult\u001b[0m \u001b[1;33m=\u001b[0m \u001b[0mself\u001b[0m\u001b[1;33m[\u001b[0m\u001b[1;33m-\u001b[0m\u001b[0mself\u001b[0m\u001b[1;33m.\u001b[0m\u001b[0mduplicated\u001b[0m\u001b[1;33m(\u001b[0m\u001b[0msubset\u001b[0m\u001b[1;33m,\u001b[0m \u001b[0mkeep\u001b[0m\u001b[1;33m=\u001b[0m\u001b[0mkeep\u001b[0m\u001b[1;33m)\u001b[0m\u001b[1;33m]\u001b[0m\u001b[1;33m\u001b[0m\u001b[1;33m\u001b[0m\u001b[0m\n\u001b[0m\u001b[0;32m   6819\u001b[0m         \u001b[1;32mif\u001b[0m \u001b[0mignore_index\u001b[0m\u001b[1;33m:\u001b[0m\u001b[1;33m\u001b[0m\u001b[1;33m\u001b[0m\u001b[0m\n\u001b[0;32m   6820\u001b[0m             \u001b[0mresult\u001b[0m\u001b[1;33m.\u001b[0m\u001b[0mindex\u001b[0m \u001b[1;33m=\u001b[0m \u001b[0mdefault_index\u001b[0m\u001b[1;33m(\u001b[0m\u001b[0mlen\u001b[0m\u001b[1;33m(\u001b[0m\u001b[0mresult\u001b[0m\u001b[1;33m)\u001b[0m\u001b[1;33m)\u001b[0m\u001b[1;33m\u001b[0m\u001b[1;33m\u001b[0m\u001b[0m\n\u001b[0;32m   6821\u001b[0m \u001b[1;33m\u001b[0m\u001b[0m\n",
      "\u001b[1;32mC:\\ProgramData\\anaconda3\\Lib\\site-packages\\pandas\\core\\frame.py\u001b[0m in \u001b[0;36m?\u001b[1;34m(self, subset, keep)\u001b[0m\n\u001b[0;32m   6946\u001b[0m         \u001b[1;31m# Otherwise, raise a KeyError, same as if you try to __getitem__ with a\u001b[0m\u001b[1;33m\u001b[0m\u001b[1;33m\u001b[0m\u001b[0m\n\u001b[0;32m   6947\u001b[0m         \u001b[1;31m# key that doesn't exist.\u001b[0m\u001b[1;33m\u001b[0m\u001b[1;33m\u001b[0m\u001b[0m\n\u001b[0;32m   6948\u001b[0m         \u001b[0mdiff\u001b[0m \u001b[1;33m=\u001b[0m \u001b[0mset\u001b[0m\u001b[1;33m(\u001b[0m\u001b[0msubset\u001b[0m\u001b[1;33m)\u001b[0m \u001b[1;33m-\u001b[0m \u001b[0mset\u001b[0m\u001b[1;33m(\u001b[0m\u001b[0mself\u001b[0m\u001b[1;33m.\u001b[0m\u001b[0mcolumns\u001b[0m\u001b[1;33m)\u001b[0m\u001b[1;33m\u001b[0m\u001b[1;33m\u001b[0m\u001b[0m\n\u001b[0;32m   6949\u001b[0m         \u001b[1;32mif\u001b[0m \u001b[0mdiff\u001b[0m\u001b[1;33m:\u001b[0m\u001b[1;33m\u001b[0m\u001b[1;33m\u001b[0m\u001b[0m\n\u001b[1;32m-> 6950\u001b[1;33m             \u001b[1;32mraise\u001b[0m \u001b[0mKeyError\u001b[0m\u001b[1;33m(\u001b[0m\u001b[0mIndex\u001b[0m\u001b[1;33m(\u001b[0m\u001b[0mdiff\u001b[0m\u001b[1;33m)\u001b[0m\u001b[1;33m)\u001b[0m\u001b[1;33m\u001b[0m\u001b[1;33m\u001b[0m\u001b[0m\n\u001b[0m\u001b[0;32m   6951\u001b[0m \u001b[1;33m\u001b[0m\u001b[0m\n\u001b[0;32m   6952\u001b[0m         \u001b[1;32mif\u001b[0m \u001b[0mlen\u001b[0m\u001b[1;33m(\u001b[0m\u001b[0msubset\u001b[0m\u001b[1;33m)\u001b[0m \u001b[1;33m==\u001b[0m \u001b[1;36m1\u001b[0m \u001b[1;32mand\u001b[0m \u001b[0mself\u001b[0m\u001b[1;33m.\u001b[0m\u001b[0mcolumns\u001b[0m\u001b[1;33m.\u001b[0m\u001b[0mis_unique\u001b[0m\u001b[1;33m:\u001b[0m\u001b[1;33m\u001b[0m\u001b[1;33m\u001b[0m\u001b[0m\n\u001b[0;32m   6953\u001b[0m             \u001b[1;31m# GH#45236 This is faster than get_group_index below\u001b[0m\u001b[1;33m\u001b[0m\u001b[1;33m\u001b[0m\u001b[0m\n",
      "\u001b[1;31mKeyError\u001b[0m: Index(['set_id'], dtype='object')"
     ]
    }
   ],
   "source": [
    "# Total number of pieces across all unique Lego sets\n",
    "unique_lego_sets = df.drop_duplicates(subset='set_id')\n",
    "\n",
    "total_pieces = unique_lego_sets['num_parts'].sum()\n",
    "\n",
    "print(total_pieces)"
   ]
  },
  {
   "cell_type": "markdown",
   "metadata": {},
   "source": [
    "Now, let's try getting the value for the 90% quantile for all numerical columns.  Do this in the cell below."
   ]
  },
  {
   "cell_type": "code",
   "execution_count": 10,
   "metadata": {},
   "outputs": [
    {
     "ename": "TypeError",
     "evalue": "unsupported operand type(s) for -: 'str' and 'str'",
     "output_type": "error",
     "traceback": [
      "\u001b[1;31m---------------------------------------------------------------------------\u001b[0m",
      "\u001b[1;31mTypeError\u001b[0m                                 Traceback (most recent call last)",
      "Cell \u001b[1;32mIn[10], line 2\u001b[0m\n\u001b[0;32m      1\u001b[0m \u001b[38;5;66;03m# Get the 90% quantile for all numerical columns\u001b[39;00m\n\u001b[1;32m----> 2\u001b[0m quantile_90 \u001b[38;5;241m=\u001b[39m df\u001b[38;5;241m.\u001b[39mquantile(\u001b[38;5;241m0.90\u001b[39m)\n\u001b[0;32m      4\u001b[0m \u001b[38;5;28mprint\u001b[39m(quantile_90)\n",
      "File \u001b[1;32mC:\\ProgramData\\anaconda3\\Lib\\site-packages\\pandas\\core\\frame.py:12146\u001b[0m, in \u001b[0;36mDataFrame.quantile\u001b[1;34m(self, q, axis, numeric_only, interpolation, method)\u001b[0m\n\u001b[0;32m  12140\u001b[0m axis \u001b[38;5;241m=\u001b[39m \u001b[38;5;28mself\u001b[39m\u001b[38;5;241m.\u001b[39m_get_axis_number(axis)\n\u001b[0;32m  12142\u001b[0m \u001b[38;5;28;01mif\u001b[39;00m \u001b[38;5;129;01mnot\u001b[39;00m is_list_like(q):\n\u001b[0;32m  12143\u001b[0m     \u001b[38;5;66;03m# BlockManager.quantile expects listlike, so we wrap and unwrap here\u001b[39;00m\n\u001b[0;32m  12144\u001b[0m     \u001b[38;5;66;03m# error: List item 0 has incompatible type \"float | ExtensionArray |\u001b[39;00m\n\u001b[0;32m  12145\u001b[0m     \u001b[38;5;66;03m# ndarray[Any, Any] | Index | Series | Sequence[float]\"; expected \"float\"\u001b[39;00m\n\u001b[1;32m> 12146\u001b[0m     res_df \u001b[38;5;241m=\u001b[39m \u001b[38;5;28mself\u001b[39m\u001b[38;5;241m.\u001b[39mquantile(\n\u001b[0;32m  12147\u001b[0m         [q],  \u001b[38;5;66;03m# type: ignore[list-item]\u001b[39;00m\n\u001b[0;32m  12148\u001b[0m         axis\u001b[38;5;241m=\u001b[39maxis,\n\u001b[0;32m  12149\u001b[0m         numeric_only\u001b[38;5;241m=\u001b[39mnumeric_only,\n\u001b[0;32m  12150\u001b[0m         interpolation\u001b[38;5;241m=\u001b[39minterpolation,\n\u001b[0;32m  12151\u001b[0m         method\u001b[38;5;241m=\u001b[39mmethod,\n\u001b[0;32m  12152\u001b[0m     )\n\u001b[0;32m  12153\u001b[0m     \u001b[38;5;28;01mif\u001b[39;00m method \u001b[38;5;241m==\u001b[39m \u001b[38;5;124m\"\u001b[39m\u001b[38;5;124msingle\u001b[39m\u001b[38;5;124m\"\u001b[39m:\n\u001b[0;32m  12154\u001b[0m         res \u001b[38;5;241m=\u001b[39m res_df\u001b[38;5;241m.\u001b[39miloc[\u001b[38;5;241m0\u001b[39m]\n",
      "File \u001b[1;32mC:\\ProgramData\\anaconda3\\Lib\\site-packages\\pandas\\core\\frame.py:12191\u001b[0m, in \u001b[0;36mDataFrame.quantile\u001b[1;34m(self, q, axis, numeric_only, interpolation, method)\u001b[0m\n\u001b[0;32m  12187\u001b[0m     \u001b[38;5;28;01mraise\u001b[39;00m \u001b[38;5;167;01mValueError\u001b[39;00m(\n\u001b[0;32m  12188\u001b[0m         \u001b[38;5;124mf\u001b[39m\u001b[38;5;124m\"\u001b[39m\u001b[38;5;124mInvalid method: \u001b[39m\u001b[38;5;132;01m{\u001b[39;00mmethod\u001b[38;5;132;01m}\u001b[39;00m\u001b[38;5;124m. Method must be in \u001b[39m\u001b[38;5;132;01m{\u001b[39;00mvalid_method\u001b[38;5;132;01m}\u001b[39;00m\u001b[38;5;124m.\u001b[39m\u001b[38;5;124m\"\u001b[39m\n\u001b[0;32m  12189\u001b[0m     )\n\u001b[0;32m  12190\u001b[0m \u001b[38;5;28;01mif\u001b[39;00m method \u001b[38;5;241m==\u001b[39m \u001b[38;5;124m\"\u001b[39m\u001b[38;5;124msingle\u001b[39m\u001b[38;5;124m\"\u001b[39m:\n\u001b[1;32m> 12191\u001b[0m     res \u001b[38;5;241m=\u001b[39m data\u001b[38;5;241m.\u001b[39m_mgr\u001b[38;5;241m.\u001b[39mquantile(qs\u001b[38;5;241m=\u001b[39mq, interpolation\u001b[38;5;241m=\u001b[39minterpolation)\n\u001b[0;32m  12192\u001b[0m \u001b[38;5;28;01melif\u001b[39;00m method \u001b[38;5;241m==\u001b[39m \u001b[38;5;124m\"\u001b[39m\u001b[38;5;124mtable\u001b[39m\u001b[38;5;124m\"\u001b[39m:\n\u001b[0;32m  12193\u001b[0m     valid_interpolation \u001b[38;5;241m=\u001b[39m {\u001b[38;5;124m\"\u001b[39m\u001b[38;5;124mnearest\u001b[39m\u001b[38;5;124m\"\u001b[39m, \u001b[38;5;124m\"\u001b[39m\u001b[38;5;124mlower\u001b[39m\u001b[38;5;124m\"\u001b[39m, \u001b[38;5;124m\"\u001b[39m\u001b[38;5;124mhigher\u001b[39m\u001b[38;5;124m\"\u001b[39m}\n",
      "File \u001b[1;32mC:\\ProgramData\\anaconda3\\Lib\\site-packages\\pandas\\core\\internals\\managers.py:1549\u001b[0m, in \u001b[0;36mBlockManager.quantile\u001b[1;34m(self, qs, interpolation)\u001b[0m\n\u001b[0;32m   1545\u001b[0m new_axes \u001b[38;5;241m=\u001b[39m \u001b[38;5;28mlist\u001b[39m(\u001b[38;5;28mself\u001b[39m\u001b[38;5;241m.\u001b[39maxes)\n\u001b[0;32m   1546\u001b[0m new_axes[\u001b[38;5;241m1\u001b[39m] \u001b[38;5;241m=\u001b[39m Index(qs, dtype\u001b[38;5;241m=\u001b[39mnp\u001b[38;5;241m.\u001b[39mfloat64)\n\u001b[0;32m   1548\u001b[0m blocks \u001b[38;5;241m=\u001b[39m [\n\u001b[1;32m-> 1549\u001b[0m     blk\u001b[38;5;241m.\u001b[39mquantile(qs\u001b[38;5;241m=\u001b[39mqs, interpolation\u001b[38;5;241m=\u001b[39minterpolation) \u001b[38;5;28;01mfor\u001b[39;00m blk \u001b[38;5;129;01min\u001b[39;00m \u001b[38;5;28mself\u001b[39m\u001b[38;5;241m.\u001b[39mblocks\n\u001b[0;32m   1550\u001b[0m ]\n\u001b[0;32m   1552\u001b[0m \u001b[38;5;28;01mreturn\u001b[39;00m \u001b[38;5;28mtype\u001b[39m(\u001b[38;5;28mself\u001b[39m)(blocks, new_axes)\n",
      "File \u001b[1;32mC:\\ProgramData\\anaconda3\\Lib\\site-packages\\pandas\\core\\internals\\blocks.py:1891\u001b[0m, in \u001b[0;36mBlock.quantile\u001b[1;34m(self, qs, interpolation)\u001b[0m\n\u001b[0;32m   1888\u001b[0m \u001b[38;5;28;01massert\u001b[39;00m \u001b[38;5;28mself\u001b[39m\u001b[38;5;241m.\u001b[39mndim \u001b[38;5;241m==\u001b[39m \u001b[38;5;241m2\u001b[39m\n\u001b[0;32m   1889\u001b[0m \u001b[38;5;28;01massert\u001b[39;00m is_list_like(qs)  \u001b[38;5;66;03m# caller is responsible for this\u001b[39;00m\n\u001b[1;32m-> 1891\u001b[0m result \u001b[38;5;241m=\u001b[39m quantile_compat(\u001b[38;5;28mself\u001b[39m\u001b[38;5;241m.\u001b[39mvalues, np\u001b[38;5;241m.\u001b[39masarray(qs\u001b[38;5;241m.\u001b[39m_values), interpolation)\n\u001b[0;32m   1892\u001b[0m \u001b[38;5;66;03m# ensure_block_shape needed for cases where we start with EA and result\u001b[39;00m\n\u001b[0;32m   1893\u001b[0m \u001b[38;5;66;03m#  is ndarray, e.g. IntegerArray, SparseArray\u001b[39;00m\n\u001b[0;32m   1894\u001b[0m result \u001b[38;5;241m=\u001b[39m ensure_block_shape(result, ndim\u001b[38;5;241m=\u001b[39m\u001b[38;5;241m2\u001b[39m)\n",
      "File \u001b[1;32mC:\\ProgramData\\anaconda3\\Lib\\site-packages\\pandas\\core\\array_algos\\quantile.py:39\u001b[0m, in \u001b[0;36mquantile_compat\u001b[1;34m(values, qs, interpolation)\u001b[0m\n\u001b[0;32m     37\u001b[0m     fill_value \u001b[38;5;241m=\u001b[39m na_value_for_dtype(values\u001b[38;5;241m.\u001b[39mdtype, compat\u001b[38;5;241m=\u001b[39m\u001b[38;5;28;01mFalse\u001b[39;00m)\n\u001b[0;32m     38\u001b[0m     mask \u001b[38;5;241m=\u001b[39m isna(values)\n\u001b[1;32m---> 39\u001b[0m     \u001b[38;5;28;01mreturn\u001b[39;00m quantile_with_mask(values, mask, fill_value, qs, interpolation)\n\u001b[0;32m     40\u001b[0m \u001b[38;5;28;01melse\u001b[39;00m:\n\u001b[0;32m     41\u001b[0m     \u001b[38;5;28;01mreturn\u001b[39;00m values\u001b[38;5;241m.\u001b[39m_quantile(qs, interpolation)\n",
      "File \u001b[1;32mC:\\ProgramData\\anaconda3\\Lib\\site-packages\\pandas\\core\\array_algos\\quantile.py:97\u001b[0m, in \u001b[0;36mquantile_with_mask\u001b[1;34m(values, mask, fill_value, qs, interpolation)\u001b[0m\n\u001b[0;32m     95\u001b[0m     result \u001b[38;5;241m=\u001b[39m np\u001b[38;5;241m.\u001b[39mrepeat(flat, \u001b[38;5;28mlen\u001b[39m(values))\u001b[38;5;241m.\u001b[39mreshape(\u001b[38;5;28mlen\u001b[39m(values), \u001b[38;5;28mlen\u001b[39m(qs))\n\u001b[0;32m     96\u001b[0m \u001b[38;5;28;01melse\u001b[39;00m:\n\u001b[1;32m---> 97\u001b[0m     result \u001b[38;5;241m=\u001b[39m _nanpercentile(\n\u001b[0;32m     98\u001b[0m         values,\n\u001b[0;32m     99\u001b[0m         qs \u001b[38;5;241m*\u001b[39m \u001b[38;5;241m100.0\u001b[39m,\n\u001b[0;32m    100\u001b[0m         na_value\u001b[38;5;241m=\u001b[39mfill_value,\n\u001b[0;32m    101\u001b[0m         mask\u001b[38;5;241m=\u001b[39mmask,\n\u001b[0;32m    102\u001b[0m         interpolation\u001b[38;5;241m=\u001b[39minterpolation,\n\u001b[0;32m    103\u001b[0m     )\n\u001b[0;32m    105\u001b[0m     result \u001b[38;5;241m=\u001b[39m np\u001b[38;5;241m.\u001b[39masarray(result)\n\u001b[0;32m    106\u001b[0m     result \u001b[38;5;241m=\u001b[39m result\u001b[38;5;241m.\u001b[39mT\n",
      "File \u001b[1;32mC:\\ProgramData\\anaconda3\\Lib\\site-packages\\pandas\\core\\array_algos\\quantile.py:199\u001b[0m, in \u001b[0;36m_nanpercentile\u001b[1;34m(values, qs, na_value, mask, interpolation)\u001b[0m\n\u001b[0;32m    195\u001b[0m \u001b[38;5;28;01mif\u001b[39;00m mask\u001b[38;5;241m.\u001b[39many():\n\u001b[0;32m    196\u001b[0m     \u001b[38;5;66;03m# Caller is responsible for ensuring mask shape match\u001b[39;00m\n\u001b[0;32m    197\u001b[0m     \u001b[38;5;28;01massert\u001b[39;00m mask\u001b[38;5;241m.\u001b[39mshape \u001b[38;5;241m==\u001b[39m values\u001b[38;5;241m.\u001b[39mshape\n\u001b[0;32m    198\u001b[0m     result \u001b[38;5;241m=\u001b[39m [\n\u001b[1;32m--> 199\u001b[0m         _nanpercentile_1d(val, m, qs, na_value, interpolation\u001b[38;5;241m=\u001b[39minterpolation)\n\u001b[0;32m    200\u001b[0m         \u001b[38;5;28;01mfor\u001b[39;00m (val, m) \u001b[38;5;129;01min\u001b[39;00m \u001b[38;5;28mzip\u001b[39m(\u001b[38;5;28mlist\u001b[39m(values), \u001b[38;5;28mlist\u001b[39m(mask))\n\u001b[0;32m    201\u001b[0m     ]\n\u001b[0;32m    202\u001b[0m     \u001b[38;5;28;01mif\u001b[39;00m values\u001b[38;5;241m.\u001b[39mdtype\u001b[38;5;241m.\u001b[39mkind \u001b[38;5;241m==\u001b[39m \u001b[38;5;124m\"\u001b[39m\u001b[38;5;124mf\u001b[39m\u001b[38;5;124m\"\u001b[39m:\n\u001b[0;32m    203\u001b[0m         \u001b[38;5;66;03m# preserve itemsize\u001b[39;00m\n\u001b[0;32m    204\u001b[0m         result \u001b[38;5;241m=\u001b[39m np\u001b[38;5;241m.\u001b[39masarray(result, dtype\u001b[38;5;241m=\u001b[39mvalues\u001b[38;5;241m.\u001b[39mdtype)\u001b[38;5;241m.\u001b[39mT\n",
      "File \u001b[1;32mC:\\ProgramData\\anaconda3\\Lib\\site-packages\\pandas\\core\\array_algos\\quantile.py:145\u001b[0m, in \u001b[0;36m_nanpercentile_1d\u001b[1;34m(values, mask, qs, na_value, interpolation)\u001b[0m\n\u001b[0;32m    139\u001b[0m \u001b[38;5;28;01mif\u001b[39;00m \u001b[38;5;28mlen\u001b[39m(values) \u001b[38;5;241m==\u001b[39m \u001b[38;5;241m0\u001b[39m:\n\u001b[0;32m    140\u001b[0m     \u001b[38;5;66;03m# Can't pass dtype=values.dtype here bc we might have na_value=np.nan\u001b[39;00m\n\u001b[0;32m    141\u001b[0m     \u001b[38;5;66;03m#  with values.dtype=int64 see test_quantile_empty\u001b[39;00m\n\u001b[0;32m    142\u001b[0m     \u001b[38;5;66;03m# equiv: 'np.array([na_value] * len(qs))' but much faster\u001b[39;00m\n\u001b[0;32m    143\u001b[0m     \u001b[38;5;28;01mreturn\u001b[39;00m np\u001b[38;5;241m.\u001b[39mfull(\u001b[38;5;28mlen\u001b[39m(qs), na_value)\n\u001b[1;32m--> 145\u001b[0m \u001b[38;5;28;01mreturn\u001b[39;00m np\u001b[38;5;241m.\u001b[39mpercentile(\n\u001b[0;32m    146\u001b[0m     values,\n\u001b[0;32m    147\u001b[0m     qs,\n\u001b[0;32m    148\u001b[0m     \u001b[38;5;66;03m# error: No overload variant of \"percentile\" matches argument\u001b[39;00m\n\u001b[0;32m    149\u001b[0m     \u001b[38;5;66;03m# types \"ndarray[Any, Any]\", \"ndarray[Any, dtype[floating[_64Bit]]]\"\u001b[39;00m\n\u001b[0;32m    150\u001b[0m     \u001b[38;5;66;03m# , \"Dict[str, str]\"  [call-overload]\u001b[39;00m\n\u001b[0;32m    151\u001b[0m     method\u001b[38;5;241m=\u001b[39minterpolation,  \u001b[38;5;66;03m# type: ignore[call-overload]\u001b[39;00m\n\u001b[0;32m    152\u001b[0m )\n",
      "File \u001b[1;32mC:\\ProgramData\\anaconda3\\Lib\\site-packages\\numpy\\lib\\function_base.py:4283\u001b[0m, in \u001b[0;36mpercentile\u001b[1;34m(a, q, axis, out, overwrite_input, method, keepdims, interpolation)\u001b[0m\n\u001b[0;32m   4281\u001b[0m \u001b[38;5;28;01mif\u001b[39;00m \u001b[38;5;129;01mnot\u001b[39;00m _quantile_is_valid(q):\n\u001b[0;32m   4282\u001b[0m     \u001b[38;5;28;01mraise\u001b[39;00m \u001b[38;5;167;01mValueError\u001b[39;00m(\u001b[38;5;124m\"\u001b[39m\u001b[38;5;124mPercentiles must be in the range [0, 100]\u001b[39m\u001b[38;5;124m\"\u001b[39m)\n\u001b[1;32m-> 4283\u001b[0m \u001b[38;5;28;01mreturn\u001b[39;00m _quantile_unchecked(\n\u001b[0;32m   4284\u001b[0m     a, q, axis, out, overwrite_input, method, keepdims)\n",
      "File \u001b[1;32mC:\\ProgramData\\anaconda3\\Lib\\site-packages\\numpy\\lib\\function_base.py:4555\u001b[0m, in \u001b[0;36m_quantile_unchecked\u001b[1;34m(a, q, axis, out, overwrite_input, method, keepdims)\u001b[0m\n\u001b[0;32m   4547\u001b[0m \u001b[38;5;28;01mdef\u001b[39;00m \u001b[38;5;21m_quantile_unchecked\u001b[39m(a,\n\u001b[0;32m   4548\u001b[0m                         q,\n\u001b[0;32m   4549\u001b[0m                         axis\u001b[38;5;241m=\u001b[39m\u001b[38;5;28;01mNone\u001b[39;00m,\n\u001b[1;32m   (...)\u001b[0m\n\u001b[0;32m   4552\u001b[0m                         method\u001b[38;5;241m=\u001b[39m\u001b[38;5;124m\"\u001b[39m\u001b[38;5;124mlinear\u001b[39m\u001b[38;5;124m\"\u001b[39m,\n\u001b[0;32m   4553\u001b[0m                         keepdims\u001b[38;5;241m=\u001b[39m\u001b[38;5;28;01mFalse\u001b[39;00m):\n\u001b[0;32m   4554\u001b[0m \u001b[38;5;250m    \u001b[39m\u001b[38;5;124;03m\"\"\"Assumes that q is in [0, 1], and is an ndarray\"\"\"\u001b[39;00m\n\u001b[1;32m-> 4555\u001b[0m     \u001b[38;5;28;01mreturn\u001b[39;00m _ureduce(a,\n\u001b[0;32m   4556\u001b[0m                     func\u001b[38;5;241m=\u001b[39m_quantile_ureduce_func,\n\u001b[0;32m   4557\u001b[0m                     q\u001b[38;5;241m=\u001b[39mq,\n\u001b[0;32m   4558\u001b[0m                     keepdims\u001b[38;5;241m=\u001b[39mkeepdims,\n\u001b[0;32m   4559\u001b[0m                     axis\u001b[38;5;241m=\u001b[39maxis,\n\u001b[0;32m   4560\u001b[0m                     out\u001b[38;5;241m=\u001b[39mout,\n\u001b[0;32m   4561\u001b[0m                     overwrite_input\u001b[38;5;241m=\u001b[39moverwrite_input,\n\u001b[0;32m   4562\u001b[0m                     method\u001b[38;5;241m=\u001b[39mmethod)\n",
      "File \u001b[1;32mC:\\ProgramData\\anaconda3\\Lib\\site-packages\\numpy\\lib\\function_base.py:3823\u001b[0m, in \u001b[0;36m_ureduce\u001b[1;34m(a, func, keepdims, **kwargs)\u001b[0m\n\u001b[0;32m   3820\u001b[0m             index_out \u001b[38;5;241m=\u001b[39m (\u001b[38;5;241m0\u001b[39m, ) \u001b[38;5;241m*\u001b[39m nd\n\u001b[0;32m   3821\u001b[0m             kwargs[\u001b[38;5;124m'\u001b[39m\u001b[38;5;124mout\u001b[39m\u001b[38;5;124m'\u001b[39m] \u001b[38;5;241m=\u001b[39m out[(\u001b[38;5;28mEllipsis\u001b[39m, ) \u001b[38;5;241m+\u001b[39m index_out]\n\u001b[1;32m-> 3823\u001b[0m r \u001b[38;5;241m=\u001b[39m func(a, \u001b[38;5;241m*\u001b[39m\u001b[38;5;241m*\u001b[39mkwargs)\n\u001b[0;32m   3825\u001b[0m \u001b[38;5;28;01mif\u001b[39;00m out \u001b[38;5;129;01mis\u001b[39;00m \u001b[38;5;129;01mnot\u001b[39;00m \u001b[38;5;28;01mNone\u001b[39;00m:\n\u001b[0;32m   3826\u001b[0m     \u001b[38;5;28;01mreturn\u001b[39;00m out\n",
      "File \u001b[1;32mC:\\ProgramData\\anaconda3\\Lib\\site-packages\\numpy\\lib\\function_base.py:4722\u001b[0m, in \u001b[0;36m_quantile_ureduce_func\u001b[1;34m(a, q, axis, out, overwrite_input, method)\u001b[0m\n\u001b[0;32m   4720\u001b[0m     \u001b[38;5;28;01melse\u001b[39;00m:\n\u001b[0;32m   4721\u001b[0m         arr \u001b[38;5;241m=\u001b[39m a\u001b[38;5;241m.\u001b[39mcopy()\n\u001b[1;32m-> 4722\u001b[0m result \u001b[38;5;241m=\u001b[39m _quantile(arr,\n\u001b[0;32m   4723\u001b[0m                    quantiles\u001b[38;5;241m=\u001b[39mq,\n\u001b[0;32m   4724\u001b[0m                    axis\u001b[38;5;241m=\u001b[39maxis,\n\u001b[0;32m   4725\u001b[0m                    method\u001b[38;5;241m=\u001b[39mmethod,\n\u001b[0;32m   4726\u001b[0m                    out\u001b[38;5;241m=\u001b[39mout)\n\u001b[0;32m   4727\u001b[0m \u001b[38;5;28;01mreturn\u001b[39;00m result\n",
      "File \u001b[1;32mC:\\ProgramData\\anaconda3\\Lib\\site-packages\\numpy\\lib\\function_base.py:4841\u001b[0m, in \u001b[0;36m_quantile\u001b[1;34m(arr, quantiles, axis, method, out)\u001b[0m\n\u001b[0;32m   4839\u001b[0m     result_shape \u001b[38;5;241m=\u001b[39m virtual_indexes\u001b[38;5;241m.\u001b[39mshape \u001b[38;5;241m+\u001b[39m (\u001b[38;5;241m1\u001b[39m,) \u001b[38;5;241m*\u001b[39m (arr\u001b[38;5;241m.\u001b[39mndim \u001b[38;5;241m-\u001b[39m \u001b[38;5;241m1\u001b[39m)\n\u001b[0;32m   4840\u001b[0m     gamma \u001b[38;5;241m=\u001b[39m gamma\u001b[38;5;241m.\u001b[39mreshape(result_shape)\n\u001b[1;32m-> 4841\u001b[0m     result \u001b[38;5;241m=\u001b[39m _lerp(previous,\n\u001b[0;32m   4842\u001b[0m                    \u001b[38;5;28mnext\u001b[39m,\n\u001b[0;32m   4843\u001b[0m                    gamma,\n\u001b[0;32m   4844\u001b[0m                    out\u001b[38;5;241m=\u001b[39mout)\n\u001b[0;32m   4845\u001b[0m \u001b[38;5;28;01mif\u001b[39;00m np\u001b[38;5;241m.\u001b[39many(slices_having_nans):\n\u001b[0;32m   4846\u001b[0m     \u001b[38;5;28;01mif\u001b[39;00m result\u001b[38;5;241m.\u001b[39mndim \u001b[38;5;241m==\u001b[39m \u001b[38;5;241m0\u001b[39m \u001b[38;5;129;01mand\u001b[39;00m out \u001b[38;5;129;01mis\u001b[39;00m \u001b[38;5;28;01mNone\u001b[39;00m:\n\u001b[0;32m   4847\u001b[0m         \u001b[38;5;66;03m# can't write to a scalar, but indexing will be correct\u001b[39;00m\n",
      "File \u001b[1;32mC:\\ProgramData\\anaconda3\\Lib\\site-packages\\numpy\\lib\\function_base.py:4655\u001b[0m, in \u001b[0;36m_lerp\u001b[1;34m(a, b, t, out)\u001b[0m\n\u001b[0;32m   4641\u001b[0m \u001b[38;5;28;01mdef\u001b[39;00m \u001b[38;5;21m_lerp\u001b[39m(a, b, t, out\u001b[38;5;241m=\u001b[39m\u001b[38;5;28;01mNone\u001b[39;00m):\n\u001b[0;32m   4642\u001b[0m \u001b[38;5;250m    \u001b[39m\u001b[38;5;124;03m\"\"\"\u001b[39;00m\n\u001b[0;32m   4643\u001b[0m \u001b[38;5;124;03m    Compute the linear interpolation weighted by gamma on each point of\u001b[39;00m\n\u001b[0;32m   4644\u001b[0m \u001b[38;5;124;03m    two same shape array.\u001b[39;00m\n\u001b[1;32m   (...)\u001b[0m\n\u001b[0;32m   4653\u001b[0m \u001b[38;5;124;03m        Output array.\u001b[39;00m\n\u001b[0;32m   4654\u001b[0m \u001b[38;5;124;03m    \"\"\"\u001b[39;00m\n\u001b[1;32m-> 4655\u001b[0m     diff_b_a \u001b[38;5;241m=\u001b[39m subtract(b, a)\n\u001b[0;32m   4656\u001b[0m     \u001b[38;5;66;03m# asanyarray is a stop-gap until gh-13105\u001b[39;00m\n\u001b[0;32m   4657\u001b[0m     lerp_interpolation \u001b[38;5;241m=\u001b[39m asanyarray(add(a, diff_b_a \u001b[38;5;241m*\u001b[39m t, out\u001b[38;5;241m=\u001b[39mout))\n",
      "\u001b[1;31mTypeError\u001b[0m: unsupported operand type(s) for -: 'str' and 'str'"
     ]
    }
   ],
   "source": [
    "# Get the 90% quantile for all numerical columns\n",
    "quantile_90 = df.quantile(0.90)\n",
    "\n",
    "print(quantile_90)"
   ]
  },
  {
   "cell_type": "markdown",
   "metadata": {},
   "source": [
    "## Getting Summary Statistics on Categorical Data\n",
    "\n",
    "For obvious reasons, most of the methods we've used so far only work with numerical data -- there's no way to calculate the standard deviation of a column containing string values. However, there are some things that we can discover about columns containing categorical data. \n",
    "\n",
    "In the cell below, print the unique values contained within the `review_difficulty` column. "
   ]
  },
  {
   "cell_type": "code",
   "execution_count": 11,
   "metadata": {},
   "outputs": [
    {
     "name": "stdout",
     "output_type": "stream",
     "text": [
      "['Average' 'Easy' 'Challenging' 'Very Easy' nan 'Very Challenging']\n"
     ]
    }
   ],
   "source": [
    "# Print the unique values in the review_difficulty column\n",
    "unique_review_difficulties = df['review_difficulty'].unique()\n",
    "print(unique_review_difficulties)"
   ]
  },
  {
   "cell_type": "markdown",
   "metadata": {},
   "source": [
    "Now, let's get the `value_counts()` for this column, to see how common each is. "
   ]
  },
  {
   "cell_type": "code",
   "execution_count": 12,
   "metadata": {},
   "outputs": [
    {
     "name": "stdout",
     "output_type": "stream",
     "text": [
      "review_difficulty\n",
      "Easy                4236\n",
      "Average             3765\n",
      "Very Easy           1139\n",
      "Challenging         1058\n",
      "Very Challenging       8\n",
      "Name: count, dtype: int64\n"
     ]
    }
   ],
   "source": [
    "# Get the value_counts() of the review_difficulty column\n",
    "review_difficulty_counts = df['review_difficulty'].value_counts()\n",
    "\n",
    "print(review_difficulty_counts)"
   ]
  },
  {
   "cell_type": "markdown",
   "metadata": {},
   "source": [
    "As you can see, these provide us quick and easy ways to get information on columns containing categorical information.  \n",
    "\n",
    "\n",
    "## Using `.applymap()`\n",
    "\n",
    "When working with pandas DataFrames, we can quickly compute functions on the data contained by using the `.applymap()` method and passing in a lambda function. \n",
    "\n",
    "For instance, we can use `applymap()` to return a version of the DataFrame where every value has been converted to a string.\n",
    "\n",
    "In the cell below:\n",
    "\n",
    "* Call the DataFrame's `.applymap()` method and pass in `lambda x: str(x)`  \n",
    "* Call the new `string_df` object's `.info()` method to confirm that everything has been cast to a string"
   ]
  },
  {
   "cell_type": "code",
   "execution_count": 13,
   "metadata": {},
   "outputs": [
    {
     "name": "stdout",
     "output_type": "stream",
     "text": [
      "<class 'pandas.core.frame.DataFrame'>\n",
      "RangeIndex: 12261 entries, 0 to 12260\n",
      "Data columns (total 14 columns):\n",
      " #   Column             Non-Null Count  Dtype \n",
      "---  ------             --------------  ----- \n",
      " 0   ages               12261 non-null  object\n",
      " 1   list_price         12261 non-null  object\n",
      " 2   num_reviews        12261 non-null  object\n",
      " 3   piece_count        12261 non-null  object\n",
      " 4   play_star_rating   12261 non-null  object\n",
      " 5   prod_desc          12261 non-null  object\n",
      " 6   prod_id            12261 non-null  object\n",
      " 7   prod_long_desc     12261 non-null  object\n",
      " 8   review_difficulty  12261 non-null  object\n",
      " 9   set_name           12261 non-null  object\n",
      " 10  star_rating        12261 non-null  object\n",
      " 11  theme_name         12261 non-null  object\n",
      " 12  val_star_rating    12261 non-null  object\n",
      " 13  country            12261 non-null  object\n",
      "dtypes: object(14)\n",
      "memory usage: 1.3+ MB\n"
     ]
    },
    {
     "name": "stderr",
     "output_type": "stream",
     "text": [
      "C:\\Users\\Administrator\\AppData\\Local\\Temp\\ipykernel_10948\\1211924104.py:2: FutureWarning: DataFrame.applymap has been deprecated. Use DataFrame.map instead.\n",
      "  string_df = df.applymap(lambda x: str(x))\n"
     ]
    }
   ],
   "source": [
    "# Call the .applymap() method\n",
    "string_df = df.applymap(lambda x: str(x))\n",
    "\n",
    "# Call the .info() method\n",
    "string_df.info()"
   ]
  },
  {
   "cell_type": "markdown",
   "metadata": {},
   "source": [
    "Note that everything -- even the `NaN` values, have been cast to a string in the example above. \n",
    "\n",
    "Note that for Pandas Series objects (such as a single column in a DataFrame), we can do the same thing using the `.apply()` method.  \n",
    "\n",
    "This is just one example of how we can quickly compute custom functions on our DataFrame.\n",
    "\n",
    "## Summary\n",
    "\n",
    "In this lab, we learned how to:\n",
    "\n",
    "* Use the `df.describe()` and `df.info()` summary statistics methods \n",
    "* Use built-in Pandas methods for calculating summary statistics \n",
    "* Apply a function to every element in a DataFrame"
   ]
  }
 ],
 "metadata": {
  "kernelspec": {
   "display_name": "Python 3 (ipykernel)",
   "language": "python",
   "name": "python3"
  },
  "language_info": {
   "codemirror_mode": {
    "name": "ipython",
    "version": 3
   },
   "file_extension": ".py",
   "mimetype": "text/x-python",
   "name": "python",
   "nbconvert_exporter": "python",
   "pygments_lexer": "ipython3",
   "version": "3.12.7"
  }
 },
 "nbformat": 4,
 "nbformat_minor": 4
}
